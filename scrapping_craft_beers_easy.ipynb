{
 "cells": [
  {
   "cell_type": "code",
   "execution_count": 1,
   "metadata": {
    "collapsed": true
   },
   "outputs": [],
   "source": [
    "from urllib.request import urlopen"
   ]
  },
  {
   "cell_type": "code",
   "execution_count": 3,
   "metadata": {
    "collapsed": true
   },
   "outputs": [],
   "source": [
    "from bs4 import BeautifulSoup\n",
    "import pandas as pd\n",
    "import re"
   ]
  },
  {
   "cell_type": "code",
   "execution_count": 15,
   "metadata": {
    "collapsed": true
   },
   "outputs": [],
   "source": [
    "def is_beer_entry(table_row):\n",
    "    row_cells=table_row.findAll(\"td\")\n",
    "    beer_id=get_beer_id(row_cells[0].text)\n",
    "    return(len(row_cells)==8 and beer_id)\n",
    "\n",
    "def get_beer_id(cell_value):\n",
    "    r=re.match(\"^(\\d{1,4})\\.$\", cell_value)\n",
    "    if r and len(r.groups())==1:\n",
    "        beer_id=r.group(1)\n",
    "        return int(beer_id)\n",
    "    else:\n",
    "        return None"
   ]
  },
  {
   "cell_type": "code",
   "execution_count": 16,
   "metadata": {
    "collapsed": false
   },
   "outputs": [],
   "source": [
    "def get_all_beers(html_soup):\n",
    "    beers=[]\n",
    "    all_rows_in_html_page=html_soup.findAll(\"tr\")\n",
    "    for table_row in all_rows_in_html_page:\n",
    "            if is_beer_entry(table_row):\n",
    "                row_cells=table_row.findAll(\"td\")\n",
    "                beer_entry={\n",
    "                    \"id\":get_beer_id(row_cells[0].text),\n",
    "                    \"name\": row_cells[1].text,\n",
    "                    \"brewery_name\": row_cells[2].text,\n",
    "                    \"brewery_location\": row_cells[3].text,\n",
    "                    \"style\": row_cells[4].text,\n",
    "                    \"size\": row_cells[5].text,\n",
    "                    \"abv\": row_cells[6].text,    \n",
    "                    \"ibu\": row_cells[7].text\n",
    "                }\n",
    "                beers.append(beer_entry)\n",
    "    return beers"
   ]
  },
  {
   "cell_type": "code",
   "execution_count": 17,
   "metadata": {
    "collapsed": false
   },
   "outputs": [],
   "source": [
    "html=urlopen(\"http://craftcans.com/db.php?search=all&sort=beerid&ord=desc&view=text\")\n",
    "html_soup=BeautifulSoup(html,'html.parser')\n",
    "beers_list=get_all_beers(html_soup)"
   ]
  },
  {
   "cell_type": "code",
   "execution_count": 28,
   "metadata": {
    "collapsed": false
   },
   "outputs": [
    {
     "data": {
      "text/html": [
       "<div>\n",
       "<table border=\"1\" class=\"dataframe\">\n",
       "  <thead>\n",
       "    <tr style=\"text-align: right;\">\n",
       "      <th></th>\n",
       "      <th>abv</th>\n",
       "      <th>brewery_location</th>\n",
       "      <th>brewery_name</th>\n",
       "      <th>ibu</th>\n",
       "      <th>id</th>\n",
       "      <th>name</th>\n",
       "      <th>size</th>\n",
       "      <th>style</th>\n",
       "    </tr>\n",
       "  </thead>\n",
       "  <tbody>\n",
       "    <tr>\n",
       "      <th>0</th>\n",
       "      <td>4.5%</td>\n",
       "      <td>Minneapolis, MN</td>\n",
       "      <td>NorthGate Brewing</td>\n",
       "      <td>50</td>\n",
       "      <td>2692</td>\n",
       "      <td>Get Together</td>\n",
       "      <td>16 oz.</td>\n",
       "      <td>American IPA</td>\n",
       "    </tr>\n",
       "    <tr>\n",
       "      <th>1</th>\n",
       "      <td>4.9%</td>\n",
       "      <td>Minneapolis, MN</td>\n",
       "      <td>NorthGate Brewing</td>\n",
       "      <td>26</td>\n",
       "      <td>2691</td>\n",
       "      <td>Maggie's Leap</td>\n",
       "      <td>16 oz.</td>\n",
       "      <td>Milk / Sweet Stout</td>\n",
       "    </tr>\n",
       "    <tr>\n",
       "      <th>2</th>\n",
       "      <td>4.8%</td>\n",
       "      <td>Minneapolis, MN</td>\n",
       "      <td>NorthGate Brewing</td>\n",
       "      <td>19</td>\n",
       "      <td>2690</td>\n",
       "      <td>Wall's End</td>\n",
       "      <td>16 oz.</td>\n",
       "      <td>English Brown Ale</td>\n",
       "    </tr>\n",
       "    <tr>\n",
       "      <th>3</th>\n",
       "      <td>6.0%</td>\n",
       "      <td>Minneapolis, MN</td>\n",
       "      <td>NorthGate Brewing</td>\n",
       "      <td>38</td>\n",
       "      <td>2689</td>\n",
       "      <td>Pumpion</td>\n",
       "      <td>16 oz.</td>\n",
       "      <td>Pumpkin Ale</td>\n",
       "    </tr>\n",
       "    <tr>\n",
       "      <th>4</th>\n",
       "      <td>6.0%</td>\n",
       "      <td>Minneapolis, MN</td>\n",
       "      <td>NorthGate Brewing</td>\n",
       "      <td>25</td>\n",
       "      <td>2688</td>\n",
       "      <td>Stronghold</td>\n",
       "      <td>16 oz.</td>\n",
       "      <td>American Porter</td>\n",
       "    </tr>\n",
       "  </tbody>\n",
       "</table>\n",
       "</div>"
      ],
      "text/plain": [
       "    abv brewery_location        brewery_name ibu    id           name    size  \\\n",
       "0  4.5%  Minneapolis, MN  NorthGate Brewing   50  2692   Get Together  16 oz.   \n",
       "1  4.9%  Minneapolis, MN  NorthGate Brewing   26  2691  Maggie's Leap  16 oz.   \n",
       "2  4.8%  Minneapolis, MN  NorthGate Brewing   19  2690     Wall's End  16 oz.   \n",
       "3  6.0%  Minneapolis, MN  NorthGate Brewing   38  2689        Pumpion  16 oz.   \n",
       "4  6.0%  Minneapolis, MN  NorthGate Brewing   25  2688     Stronghold  16 oz.   \n",
       "\n",
       "                style  \n",
       "0        American IPA  \n",
       "1  Milk / Sweet Stout  \n",
       "2   English Brown Ale  \n",
       "3         Pumpkin Ale  \n",
       "4     American Porter  "
      ]
     },
     "execution_count": 28,
     "metadata": {},
     "output_type": "execute_result"
    }
   ],
   "source": [
    "df=pd.DataFrame(beers_list)\n",
    "df.head()"
   ]
  },
  {
   "cell_type": "code",
   "execution_count": 50,
   "metadata": {
    "collapsed": false
   },
   "outputs": [
    {
     "data": {
      "text/html": [
       "<div>\n",
       "<table border=\"1\" class=\"dataframe\">\n",
       "  <thead>\n",
       "    <tr style=\"text-align: right;\">\n",
       "      <th></th>\n",
       "      <th>brewery_location</th>\n",
       "      <th>brewery_name</th>\n",
       "      <th>id</th>\n",
       "    </tr>\n",
       "  </thead>\n",
       "  <tbody>\n",
       "    <tr>\n",
       "      <th>0</th>\n",
       "      <td>Minneapolis, MN</td>\n",
       "      <td>NorthGate Brewing</td>\n",
       "      <td>0</td>\n",
       "    </tr>\n",
       "    <tr>\n",
       "      <th>1</th>\n",
       "      <td>Louisville, KY</td>\n",
       "      <td>Against the Grain Brewery</td>\n",
       "      <td>1</td>\n",
       "    </tr>\n",
       "    <tr>\n",
       "      <th>2</th>\n",
       "      <td>Framingham, MA</td>\n",
       "      <td>Jack's Abby Craft Lagers</td>\n",
       "      <td>2</td>\n",
       "    </tr>\n",
       "    <tr>\n",
       "      <th>3</th>\n",
       "      <td>San Diego, CA</td>\n",
       "      <td>Mike Hess Brewing Company</td>\n",
       "      <td>3</td>\n",
       "    </tr>\n",
       "    <tr>\n",
       "      <th>4</th>\n",
       "      <td>San Francisco, CA</td>\n",
       "      <td>Fort Point Beer Company</td>\n",
       "      <td>4</td>\n",
       "    </tr>\n",
       "  </tbody>\n",
       "</table>\n",
       "</div>"
      ],
      "text/plain": [
       "    brewery_location               brewery_name  id\n",
       "0    Minneapolis, MN         NorthGate Brewing    0\n",
       "1     Louisville, KY  Against the Grain Brewery   1\n",
       "2     Framingham, MA   Jack's Abby Craft Lagers   2\n",
       "3      San Diego, CA  Mike Hess Brewing Company   3\n",
       "4  San Francisco, CA    Fort Point Beer Company   4"
      ]
     },
     "execution_count": 50,
     "metadata": {},
     "output_type": "execute_result"
    }
   ],
   "source": [
    "brewer=df[[\"brewery_location\",\"brewery_name\"]]\n",
    "brewer=brewer.drop_duplicates().reset_index(drop=True)\n",
    "brewer[\"id\"]=brewer.index\n",
    "brewer.head()"
   ]
  },
  {
   "cell_type": "code",
   "execution_count": 51,
   "metadata": {
    "collapsed": true
   },
   "outputs": [],
   "source": [
    "beers=pd.merge(df, brewer, \n",
    "               left_on=[\"brewery_name\", \"brewery_location\"],\n",
    "               right_on=[\"brewery_name\", \"brewery_location\"],\n",
    "               sort=True,\n",
    "               suffixes=('_beer','_brewery'))"
   ]
  },
  {
   "cell_type": "code",
   "execution_count": 52,
   "metadata": {
    "collapsed": false
   },
   "outputs": [
    {
     "data": {
      "text/html": [
       "<div>\n",
       "<table border=\"1\" class=\"dataframe\">\n",
       "  <thead>\n",
       "    <tr style=\"text-align: right;\">\n",
       "      <th></th>\n",
       "      <th>abv</th>\n",
       "      <th>brewery_location</th>\n",
       "      <th>brewery_name</th>\n",
       "      <th>ibu</th>\n",
       "      <th>id_beer</th>\n",
       "      <th>name</th>\n",
       "      <th>size</th>\n",
       "      <th>style</th>\n",
       "      <th>id_brewery</th>\n",
       "    </tr>\n",
       "  </thead>\n",
       "  <tbody>\n",
       "    <tr>\n",
       "      <th>0</th>\n",
       "      <td>5.0%</td>\n",
       "      <td>Bend, OR</td>\n",
       "      <td>10 Barrel Brewing Company</td>\n",
       "      <td>N/A</td>\n",
       "      <td>1436</td>\n",
       "      <td>Pub Beer</td>\n",
       "      <td>12 oz.</td>\n",
       "      <td>American Pale Lager</td>\n",
       "      <td>408</td>\n",
       "    </tr>\n",
       "    <tr>\n",
       "      <th>1</th>\n",
       "      <td>6.6%</td>\n",
       "      <td>Gary, IN</td>\n",
       "      <td>18th Street Brewery</td>\n",
       "      <td>N/A</td>\n",
       "      <td>2265</td>\n",
       "      <td>Devil's Cup</td>\n",
       "      <td>12 oz.</td>\n",
       "      <td>American Pale Ale (APA)</td>\n",
       "      <td>177</td>\n",
       "    </tr>\n",
       "    <tr>\n",
       "      <th>2</th>\n",
       "      <td>7.1%</td>\n",
       "      <td>Gary, IN</td>\n",
       "      <td>18th Street Brewery</td>\n",
       "      <td>N/A</td>\n",
       "      <td>2264</td>\n",
       "      <td>Rise of the Phoenix</td>\n",
       "      <td>12 oz.</td>\n",
       "      <td>American IPA</td>\n",
       "      <td>177</td>\n",
       "    </tr>\n",
       "    <tr>\n",
       "      <th>3</th>\n",
       "      <td>9.0%</td>\n",
       "      <td>Gary, IN</td>\n",
       "      <td>18th Street Brewery</td>\n",
       "      <td>N/A</td>\n",
       "      <td>2263</td>\n",
       "      <td>Sinister</td>\n",
       "      <td>12 oz.</td>\n",
       "      <td>American Double / Imperial IPA</td>\n",
       "      <td>177</td>\n",
       "    </tr>\n",
       "    <tr>\n",
       "      <th>4</th>\n",
       "      <td>7.5%</td>\n",
       "      <td>Gary, IN</td>\n",
       "      <td>18th Street Brewery</td>\n",
       "      <td>N/A</td>\n",
       "      <td>2262</td>\n",
       "      <td>Sex and Candy</td>\n",
       "      <td>12 oz.</td>\n",
       "      <td>American IPA</td>\n",
       "      <td>177</td>\n",
       "    </tr>\n",
       "  </tbody>\n",
       "</table>\n",
       "</div>"
      ],
      "text/plain": [
       "    abv brewery_location               brewery_name  ibu  id_beer  \\\n",
       "0  5.0%         Bend, OR  10 Barrel Brewing Company  N/A     1436   \n",
       "1  6.6%         Gary, IN        18th Street Brewery  N/A     2265   \n",
       "2  7.1%         Gary, IN        18th Street Brewery  N/A     2264   \n",
       "3  9.0%         Gary, IN        18th Street Brewery  N/A     2263   \n",
       "4  7.5%         Gary, IN        18th Street Brewery  N/A     2262   \n",
       "\n",
       "                  name    size                           style  id_brewery  \n",
       "0             Pub Beer  12 oz.             American Pale Lager         408  \n",
       "1          Devil's Cup  12 oz.         American Pale Ale (APA)         177  \n",
       "2  Rise of the Phoenix  12 oz.                    American IPA         177  \n",
       "3             Sinister  12 oz.  American Double / Imperial IPA         177  \n",
       "4        Sex and Candy  12 oz.                    American IPA         177  "
      ]
     },
     "execution_count": 52,
     "metadata": {},
     "output_type": "execute_result"
    }
   ],
   "source": [
    "beers.head()"
   ]
  },
  {
   "cell_type": "code",
   "execution_count": 53,
   "metadata": {
    "collapsed": false
   },
   "outputs": [
    {
     "data": {
      "text/html": [
       "<div>\n",
       "<table border=\"1\" class=\"dataframe\">\n",
       "  <thead>\n",
       "    <tr style=\"text-align: right;\">\n",
       "      <th></th>\n",
       "      <th>abv</th>\n",
       "      <th>ibu</th>\n",
       "      <th>id</th>\n",
       "      <th>name</th>\n",
       "      <th>size</th>\n",
       "      <th>style</th>\n",
       "      <th>id_brewer</th>\n",
       "    </tr>\n",
       "  </thead>\n",
       "  <tbody>\n",
       "    <tr>\n",
       "      <th>0</th>\n",
       "      <td>5.0%</td>\n",
       "      <td>N/A</td>\n",
       "      <td>1436</td>\n",
       "      <td>Pub Beer</td>\n",
       "      <td>12 oz.</td>\n",
       "      <td>American Pale Lager</td>\n",
       "      <td>408</td>\n",
       "    </tr>\n",
       "    <tr>\n",
       "      <th>1</th>\n",
       "      <td>6.6%</td>\n",
       "      <td>N/A</td>\n",
       "      <td>2265</td>\n",
       "      <td>Devil's Cup</td>\n",
       "      <td>12 oz.</td>\n",
       "      <td>American Pale Ale (APA)</td>\n",
       "      <td>177</td>\n",
       "    </tr>\n",
       "    <tr>\n",
       "      <th>2</th>\n",
       "      <td>7.1%</td>\n",
       "      <td>N/A</td>\n",
       "      <td>2264</td>\n",
       "      <td>Rise of the Phoenix</td>\n",
       "      <td>12 oz.</td>\n",
       "      <td>American IPA</td>\n",
       "      <td>177</td>\n",
       "    </tr>\n",
       "    <tr>\n",
       "      <th>3</th>\n",
       "      <td>9.0%</td>\n",
       "      <td>N/A</td>\n",
       "      <td>2263</td>\n",
       "      <td>Sinister</td>\n",
       "      <td>12 oz.</td>\n",
       "      <td>American Double / Imperial IPA</td>\n",
       "      <td>177</td>\n",
       "    </tr>\n",
       "    <tr>\n",
       "      <th>4</th>\n",
       "      <td>7.5%</td>\n",
       "      <td>N/A</td>\n",
       "      <td>2262</td>\n",
       "      <td>Sex and Candy</td>\n",
       "      <td>12 oz.</td>\n",
       "      <td>American IPA</td>\n",
       "      <td>177</td>\n",
       "    </tr>\n",
       "  </tbody>\n",
       "</table>\n",
       "</div>"
      ],
      "text/plain": [
       "    abv  ibu    id                 name    size  \\\n",
       "0  5.0%  N/A  1436             Pub Beer  12 oz.   \n",
       "1  6.6%  N/A  2265          Devil's Cup  12 oz.   \n",
       "2  7.1%  N/A  2264  Rise of the Phoenix  12 oz.   \n",
       "3  9.0%  N/A  2263             Sinister  12 oz.   \n",
       "4  7.5%  N/A  2262        Sex and Candy  12 oz.   \n",
       "\n",
       "                            style  id_brewer  \n",
       "0             American Pale Lager        408  \n",
       "1         American Pale Ale (APA)        177  \n",
       "2                    American IPA        177  \n",
       "3  American Double / Imperial IPA        177  \n",
       "4                    American IPA        177  "
      ]
     },
     "execution_count": 53,
     "metadata": {},
     "output_type": "execute_result"
    }
   ],
   "source": [
    "beers=beers[[\"abv\", \"ibu\", \"id_beer\",\"name\", \"size\",\"style\",'id_brewery']]\n",
    "beers_col={\"id_beer\":\"id\",\"id_brewery\":'id_brewer'}\n",
    "beers.rename(inplace=True, columns=beers_col)\n",
    "beers.head()"
   ]
  },
  {
   "cell_type": "code",
   "execution_count": 54,
   "metadata": {
    "collapsed": true
   },
   "outputs": [],
   "source": [
    "brewer[\"city\"]=[brewer[\"brewery_location\"][i].split(\",\")[0] for i in range(len(brewer))]"
   ]
  },
  {
   "cell_type": "code",
   "execution_count": 55,
   "metadata": {
    "collapsed": false
   },
   "outputs": [
    {
     "data": {
      "text/html": [
       "<div>\n",
       "<table border=\"1\" class=\"dataframe\">\n",
       "  <thead>\n",
       "    <tr style=\"text-align: right;\">\n",
       "      <th></th>\n",
       "      <th>brewery_location</th>\n",
       "      <th>brewery_name</th>\n",
       "      <th>id</th>\n",
       "      <th>city</th>\n",
       "    </tr>\n",
       "  </thead>\n",
       "  <tbody>\n",
       "    <tr>\n",
       "      <th>0</th>\n",
       "      <td>Minneapolis, MN</td>\n",
       "      <td>NorthGate Brewing</td>\n",
       "      <td>0</td>\n",
       "      <td>Minneapolis</td>\n",
       "    </tr>\n",
       "    <tr>\n",
       "      <th>1</th>\n",
       "      <td>Louisville, KY</td>\n",
       "      <td>Against the Grain Brewery</td>\n",
       "      <td>1</td>\n",
       "      <td>Louisville</td>\n",
       "    </tr>\n",
       "    <tr>\n",
       "      <th>2</th>\n",
       "      <td>Framingham, MA</td>\n",
       "      <td>Jack's Abby Craft Lagers</td>\n",
       "      <td>2</td>\n",
       "      <td>Framingham</td>\n",
       "    </tr>\n",
       "    <tr>\n",
       "      <th>3</th>\n",
       "      <td>San Diego, CA</td>\n",
       "      <td>Mike Hess Brewing Company</td>\n",
       "      <td>3</td>\n",
       "      <td>San Diego</td>\n",
       "    </tr>\n",
       "    <tr>\n",
       "      <th>4</th>\n",
       "      <td>San Francisco, CA</td>\n",
       "      <td>Fort Point Beer Company</td>\n",
       "      <td>4</td>\n",
       "      <td>San Francisco</td>\n",
       "    </tr>\n",
       "  </tbody>\n",
       "</table>\n",
       "</div>"
      ],
      "text/plain": [
       "    brewery_location               brewery_name  id           city\n",
       "0    Minneapolis, MN         NorthGate Brewing    0    Minneapolis\n",
       "1     Louisville, KY  Against the Grain Brewery   1     Louisville\n",
       "2     Framingham, MA   Jack's Abby Craft Lagers   2     Framingham\n",
       "3      San Diego, CA  Mike Hess Brewing Company   3      San Diego\n",
       "4  San Francisco, CA    Fort Point Beer Company   4  San Francisco"
      ]
     },
     "execution_count": 55,
     "metadata": {},
     "output_type": "execute_result"
    }
   ],
   "source": [
    "brewer.head()"
   ]
  },
  {
   "cell_type": "code",
   "execution_count": 56,
   "metadata": {
    "collapsed": true
   },
   "outputs": [],
   "source": [
    "brewer[\"state\"]=[brewer[\"brewery_location\"][i].split(\",\")[1] for i in range(len(brewer))]"
   ]
  },
  {
   "cell_type": "code",
   "execution_count": 57,
   "metadata": {
    "collapsed": true
   },
   "outputs": [],
   "source": [
    "brewer=brewer[['brewery_name',\"city\",\"state\",\"id\"]]\n",
    "brewer.rename(inplace=True,columns={\"brewery_name\":\"name\"})"
   ]
  },
  {
   "cell_type": "code",
   "execution_count": 58,
   "metadata": {
    "collapsed": false
   },
   "outputs": [
    {
     "data": {
      "text/html": [
       "<div>\n",
       "<table border=\"1\" class=\"dataframe\">\n",
       "  <thead>\n",
       "    <tr style=\"text-align: right;\">\n",
       "      <th></th>\n",
       "      <th>name</th>\n",
       "      <th>city</th>\n",
       "      <th>state</th>\n",
       "      <th>id</th>\n",
       "    </tr>\n",
       "  </thead>\n",
       "  <tbody>\n",
       "    <tr>\n",
       "      <th>0</th>\n",
       "      <td>NorthGate Brewing</td>\n",
       "      <td>Minneapolis</td>\n",
       "      <td>MN</td>\n",
       "      <td>0</td>\n",
       "    </tr>\n",
       "    <tr>\n",
       "      <th>1</th>\n",
       "      <td>Against the Grain Brewery</td>\n",
       "      <td>Louisville</td>\n",
       "      <td>KY</td>\n",
       "      <td>1</td>\n",
       "    </tr>\n",
       "    <tr>\n",
       "      <th>2</th>\n",
       "      <td>Jack's Abby Craft Lagers</td>\n",
       "      <td>Framingham</td>\n",
       "      <td>MA</td>\n",
       "      <td>2</td>\n",
       "    </tr>\n",
       "    <tr>\n",
       "      <th>3</th>\n",
       "      <td>Mike Hess Brewing Company</td>\n",
       "      <td>San Diego</td>\n",
       "      <td>CA</td>\n",
       "      <td>3</td>\n",
       "    </tr>\n",
       "    <tr>\n",
       "      <th>4</th>\n",
       "      <td>Fort Point Beer Company</td>\n",
       "      <td>San Francisco</td>\n",
       "      <td>CA</td>\n",
       "      <td>4</td>\n",
       "    </tr>\n",
       "  </tbody>\n",
       "</table>\n",
       "</div>"
      ],
      "text/plain": [
       "                        name           city state  id\n",
       "0         NorthGate Brewing     Minneapolis    MN   0\n",
       "1  Against the Grain Brewery     Louisville    KY   1\n",
       "2   Jack's Abby Craft Lagers     Framingham    MA   2\n",
       "3  Mike Hess Brewing Company      San Diego    CA   3\n",
       "4    Fort Point Beer Company  San Francisco    CA   4"
      ]
     },
     "execution_count": 58,
     "metadata": {},
     "output_type": "execute_result"
    }
   ],
   "source": [
    "brewer.head()"
   ]
  },
  {
   "cell_type": "code",
   "execution_count": 59,
   "metadata": {
    "collapsed": true
   },
   "outputs": [],
   "source": [
    "def str_pct_to_float(value):\n",
    "    value=str(value).strip(\"%\")\n",
    "    try:\n",
    "        return float(value)/100\n",
    "    except ValueError:\n",
    "        return None\n",
    "beers[\"abv\"]=beers[\"abv\"].apply(str_pct_to_float)"
   ]
  },
  {
   "cell_type": "code",
   "execution_count": 61,
   "metadata": {
    "collapsed": false
   },
   "outputs": [],
   "source": [
    "def str_to_int(val):\n",
    "    try:\n",
    "        return int(val)\n",
    "    except ValueError:\n",
    "        return None\n",
    "beers[\"ibu\"]=beers[\"ibu\"].apply(str_to_int)"
   ]
  },
  {
   "cell_type": "code",
   "execution_count": 62,
   "metadata": {
    "collapsed": false
   },
   "outputs": [
    {
     "data": {
      "text/html": [
       "<div>\n",
       "<table border=\"1\" class=\"dataframe\">\n",
       "  <thead>\n",
       "    <tr style=\"text-align: right;\">\n",
       "      <th></th>\n",
       "      <th>abv</th>\n",
       "      <th>ibu</th>\n",
       "      <th>id</th>\n",
       "      <th>name</th>\n",
       "      <th>size</th>\n",
       "      <th>style</th>\n",
       "      <th>id_brewer</th>\n",
       "    </tr>\n",
       "  </thead>\n",
       "  <tbody>\n",
       "    <tr>\n",
       "      <th>0</th>\n",
       "      <td>0.050</td>\n",
       "      <td>NaN</td>\n",
       "      <td>1436</td>\n",
       "      <td>Pub Beer</td>\n",
       "      <td>12 oz.</td>\n",
       "      <td>American Pale Lager</td>\n",
       "      <td>408</td>\n",
       "    </tr>\n",
       "    <tr>\n",
       "      <th>1</th>\n",
       "      <td>0.066</td>\n",
       "      <td>NaN</td>\n",
       "      <td>2265</td>\n",
       "      <td>Devil's Cup</td>\n",
       "      <td>12 oz.</td>\n",
       "      <td>American Pale Ale (APA)</td>\n",
       "      <td>177</td>\n",
       "    </tr>\n",
       "    <tr>\n",
       "      <th>2</th>\n",
       "      <td>0.071</td>\n",
       "      <td>NaN</td>\n",
       "      <td>2264</td>\n",
       "      <td>Rise of the Phoenix</td>\n",
       "      <td>12 oz.</td>\n",
       "      <td>American IPA</td>\n",
       "      <td>177</td>\n",
       "    </tr>\n",
       "    <tr>\n",
       "      <th>3</th>\n",
       "      <td>0.090</td>\n",
       "      <td>NaN</td>\n",
       "      <td>2263</td>\n",
       "      <td>Sinister</td>\n",
       "      <td>12 oz.</td>\n",
       "      <td>American Double / Imperial IPA</td>\n",
       "      <td>177</td>\n",
       "    </tr>\n",
       "    <tr>\n",
       "      <th>4</th>\n",
       "      <td>0.075</td>\n",
       "      <td>NaN</td>\n",
       "      <td>2262</td>\n",
       "      <td>Sex and Candy</td>\n",
       "      <td>12 oz.</td>\n",
       "      <td>American IPA</td>\n",
       "      <td>177</td>\n",
       "    </tr>\n",
       "  </tbody>\n",
       "</table>\n",
       "</div>"
      ],
      "text/plain": [
       "     abv  ibu    id                 name    size  \\\n",
       "0  0.050  NaN  1436             Pub Beer  12 oz.   \n",
       "1  0.066  NaN  2265          Devil's Cup  12 oz.   \n",
       "2  0.071  NaN  2264  Rise of the Phoenix  12 oz.   \n",
       "3  0.090  NaN  2263             Sinister  12 oz.   \n",
       "4  0.075  NaN  2262        Sex and Candy  12 oz.   \n",
       "\n",
       "                            style  id_brewer  \n",
       "0             American Pale Lager        408  \n",
       "1         American Pale Ale (APA)        177  \n",
       "2                    American IPA        177  \n",
       "3  American Double / Imperial IPA        177  \n",
       "4                    American IPA        177  "
      ]
     },
     "execution_count": 62,
     "metadata": {},
     "output_type": "execute_result"
    }
   ],
   "source": [
    "beers.head()"
   ]
  },
  {
   "cell_type": "code",
   "execution_count": 63,
   "metadata": {
    "collapsed": false
   },
   "outputs": [
    {
     "data": {
      "text/plain": [
       "12 oz.                 1473\n",
       "16 oz.                  814\n",
       "12 oz.                   34\n",
       "24 oz.                   21\n",
       "19.2 oz.                 14\n",
       "12 oz                    14\n",
       "16 oz                    12\n",
       "16 oz. Alumi-Tek®         9\n",
       "16 oz. Alumi-Tek®\\t       6\n",
       "32 oz.                    5\n",
       "8.4 oz.                   1\n",
       "12 ounce                  1\n",
       "16.9 oz.                  1\n",
       "12 oz. Slimline           1\n",
       "24 oz. \"Silo Can\"         1\n",
       "12 & 16 oz.               1\n",
       "12 OZ.                    1\n",
       "19.2                      1\n",
       "Name: size, dtype: int64"
      ]
     },
     "execution_count": 63,
     "metadata": {},
     "output_type": "execute_result"
    }
   ],
   "source": [
    "beers[\"size\"].value_counts()"
   ]
  },
  {
   "cell_type": "code",
   "execution_count": 64,
   "metadata": {
    "collapsed": false
   },
   "outputs": [
    {
     "data": {
      "text/html": [
       "<div>\n",
       "<table border=\"1\" class=\"dataframe\">\n",
       "  <thead>\n",
       "    <tr style=\"text-align: right;\">\n",
       "      <th></th>\n",
       "      <th>abv</th>\n",
       "      <th>ibu</th>\n",
       "      <th>id</th>\n",
       "      <th>name</th>\n",
       "      <th>style</th>\n",
       "      <th>id_brewer</th>\n",
       "      <th>ounces</th>\n",
       "    </tr>\n",
       "  </thead>\n",
       "  <tbody>\n",
       "    <tr>\n",
       "      <th>0</th>\n",
       "      <td>0.050</td>\n",
       "      <td>NaN</td>\n",
       "      <td>1436</td>\n",
       "      <td>Pub Beer</td>\n",
       "      <td>American Pale Lager</td>\n",
       "      <td>408</td>\n",
       "      <td>12.0</td>\n",
       "    </tr>\n",
       "    <tr>\n",
       "      <th>1</th>\n",
       "      <td>0.066</td>\n",
       "      <td>NaN</td>\n",
       "      <td>2265</td>\n",
       "      <td>Devil's Cup</td>\n",
       "      <td>American Pale Ale (APA)</td>\n",
       "      <td>177</td>\n",
       "      <td>12.0</td>\n",
       "    </tr>\n",
       "    <tr>\n",
       "      <th>2</th>\n",
       "      <td>0.071</td>\n",
       "      <td>NaN</td>\n",
       "      <td>2264</td>\n",
       "      <td>Rise of the Phoenix</td>\n",
       "      <td>American IPA</td>\n",
       "      <td>177</td>\n",
       "      <td>12.0</td>\n",
       "    </tr>\n",
       "    <tr>\n",
       "      <th>3</th>\n",
       "      <td>0.090</td>\n",
       "      <td>NaN</td>\n",
       "      <td>2263</td>\n",
       "      <td>Sinister</td>\n",
       "      <td>American Double / Imperial IPA</td>\n",
       "      <td>177</td>\n",
       "      <td>12.0</td>\n",
       "    </tr>\n",
       "    <tr>\n",
       "      <th>4</th>\n",
       "      <td>0.075</td>\n",
       "      <td>NaN</td>\n",
       "      <td>2262</td>\n",
       "      <td>Sex and Candy</td>\n",
       "      <td>American IPA</td>\n",
       "      <td>177</td>\n",
       "      <td>12.0</td>\n",
       "    </tr>\n",
       "  </tbody>\n",
       "</table>\n",
       "</div>"
      ],
      "text/plain": [
       "     abv  ibu    id                 name                           style  \\\n",
       "0  0.050  NaN  1436             Pub Beer             American Pale Lager   \n",
       "1  0.066  NaN  2265          Devil's Cup         American Pale Ale (APA)   \n",
       "2  0.071  NaN  2264  Rise of the Phoenix                    American IPA   \n",
       "3  0.090  NaN  2263             Sinister  American Double / Imperial IPA   \n",
       "4  0.075  NaN  2262        Sex and Candy                    American IPA   \n",
       "\n",
       "   id_brewer  ounces  \n",
       "0        408    12.0  \n",
       "1        177    12.0  \n",
       "2        177    12.0  \n",
       "3        177    12.0  \n",
       "4        177    12.0  "
      ]
     },
     "execution_count": 64,
     "metadata": {},
     "output_type": "execute_result"
    }
   ],
   "source": [
    "def extract_ounces(values):\n",
    "    stripped=values.strip('oz')\n",
    "    match=re.match(\"(\\d{1,2}\\.*\\d*)\",stripped)\n",
    "    if match:\n",
    "        return float(match.group(0))\n",
    "    else:\n",
    "        return None\n",
    "beers[\"ounces\"]=beers[\"size\"].apply(extract_ounces)\n",
    "del beers[\"size\"]\n",
    "beers.head()\n",
    "    "
   ]
  },
  {
   "cell_type": "code",
   "execution_count": null,
   "metadata": {
    "collapsed": true
   },
   "outputs": [],
   "source": []
  }
 ],
 "metadata": {
  "kernelspec": {
   "display_name": "Python 3",
   "language": "python",
   "name": "python3"
  },
  "language_info": {
   "codemirror_mode": {
    "name": "ipython",
    "version": 3
   },
   "file_extension": ".py",
   "mimetype": "text/x-python",
   "name": "python",
   "nbconvert_exporter": "python",
   "pygments_lexer": "ipython3",
   "version": "3.5.1"
  }
 },
 "nbformat": 4,
 "nbformat_minor": 0
}
